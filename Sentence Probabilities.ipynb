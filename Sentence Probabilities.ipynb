{
  "cells": [
    {
      "cell_type": "markdown",
      "metadata": {
        "id": "P_pqbdXXh08N"
      },
      "source": [
        "Q4. Work on sentence probabilities (14 marks)\n",
        "\n",
        "\n"
      ]
    },
    {
      "cell_type": "code",
      "execution_count": 52,
      "metadata": {
        "colab": {
          "base_uri": "https://localhost:8080/"
        },
        "id": "-JfHD9CIh08P",
        "outputId": "0cfc0390-deb4-4559-a903-35fa3c99f115"
      },
      "outputs": [
        {
          "output_type": "stream",
          "name": "stdout",
          "text": [
            "Drive already mounted at /content/drive; to attempt to forcibly remount, call drive.mount(\"/content/drive\", force_remount=True).\n",
            "\n",
            "Unsmoothed probability of sentence \"i read a book by danielle\" = 0.07407407407407407\n",
            "\n",
            " Smoothed probability of sentence \"i read a book by danielle\" = 0.0000101013579198\n"
          ]
        },
        {
          "output_type": "stream",
          "name": "stderr",
          "text": [
            "[nltk_data] Downloading package punkt to /root/nltk_data...\n",
            "[nltk_data]   Package punkt is already up-to-date!\n"
          ]
        }
      ],
      "source": [
        "# Importing necessary libraries\n",
        "import nltk\n",
        "import numpy as np\n",
        "from nltk.util import bigrams\n",
        "from nltk.lm.preprocessing import pad_both_ends\n",
        "\n",
        "\n",
        "# Open the text corpus\n",
        "from google.colab import drive\n",
        "drive.mount('/content/drive')\n",
        "with open(\n",
        "    \"/content/drive/MyDrive/Colab Notebooks/TXSA/Assignment Data/Data_3.txt\",\n",
        "    \"r\") as file:\n",
        "    # Open an empty list to store lines starting with \"<\"\n",
        "    usable_lines = []\n",
        "    # Loop through each line in the file\n",
        "    for line in file:\n",
        "        # Check if the line starts with \"<\"\n",
        "        if line.startswith(\"<\"):\n",
        "            processed_line = line.replace(\n",
        "                \"<s>\", \"\").replace(\"</s>\", \"\").lower().strip()\n",
        "            # If it does, append it to the list\n",
        "            usable_lines.append(processed_line)\n",
        "        else:\n",
        "            # If it doesn't start with \"<\", move to the next line\n",
        "            continue\n",
        "\n",
        "# Differentiate the sentences into corpus and targeted sentences\n",
        "corpus = usable_lines[:-1]\n",
        "training = usable_lines[-1]\n",
        "nltk.download('punkt')\n",
        "frequency_corpus = []\n",
        "final_corpus = []\n",
        "\n",
        "# Function to tokenize and create bigrams for each sentence in the corpus\n",
        "def bigram(x):\n",
        "    tokenized_corpus = nltk.tokenize.word_tokenize(x)\n",
        "    padded = list(pad_both_ends(tokenized_corpus, n=2))\n",
        "    frequency_corpus.append(padded)\n",
        "    bigram_1 = list(bigrams(padded))\n",
        "    final_corpus.append(bigram_1)\n",
        "\n",
        "# Generating bigrams for each sentence in the corpus\n",
        "bigram(corpus[0])\n",
        "bigram(corpus[1])\n",
        "bigram(corpus[2])\n",
        "\n",
        "bigram_frequency = sum(final_corpus, [])\n",
        "frequency = sum(frequency_corpus, [])\n",
        "distinct_tokens = list(set(sorted(frequency)))\n",
        "\n",
        "# Tokenizing the target sentence and creating bigrams\n",
        "tokenized_corpus = nltk.tokenize.word_tokenize(training)\n",
        "bigram_target = list(bigrams(pad_both_ends(tokenized_corpus, n=2)))\n",
        "\n",
        "# Function to generate token frequencies\n",
        "def generate_tokens_freq(tokens):\n",
        "    dct = {}\n",
        "    for i in tokens:\n",
        "        dct[i] = 0\n",
        "    for i in tokens:\n",
        "        dct[i] += 1\n",
        "    return dct\n",
        "\n",
        "# Generating token frequencies for the corpus and bigrams\n",
        "dct = generate_tokens_freq(frequency)\n",
        "dct_1 = generate_tokens_freq(bigram_frequency)\n",
        "\n",
        "# Function to calculate unsmoothed bigram probabilities\n",
        "def calc_bigram_prob(list_of_bigrams, unigram_counts, bigram_counts):\n",
        "    list_of_prob = {}\n",
        "    for bigram in list_of_bigrams:\n",
        "        word1 = bigram[0]\n",
        "        word2 = bigram[1]\n",
        "        list_of_prob[bigram] = (bigram_counts.get(bigram))/(unigram_counts.get\n",
        "         (word1))\n",
        "    return list_of_prob\n",
        "\n",
        "bigram_prob = calc_bigram_prob(bigram_frequency, dct, dct_1)\n",
        "\n",
        "# Calculating unsmoothed probability for the target sentence\n",
        "output_prob1 = 1\n",
        "\n",
        "for i in range(len(bigram_target)):\n",
        "    if bigram_target[i] in bigram_prob:\n",
        "        output_prob1 = output_prob1 * bigram_prob[bigram_target[i]]\n",
        "    else:\n",
        "        output_prob1 *= 0\n",
        "print('\\n' +\n",
        "      'Unsmoothed probability of sentence \\\"i read a book by danielle\\\" = ' +\n",
        "      str(output_prob1))\n",
        "\n",
        "# Function to calculate smoothed bigram probabilities\n",
        "def calc_smoothed_bigram_prob(list_of_bigrams, unigram_counts, bigram_counts):\n",
        "    list_of_prob = {}\n",
        "    for bigram in list_of_bigrams:\n",
        "        word1 = bigram[0]\n",
        "        word2 = bigram[1]\n",
        "        list_of_prob[bigram] = (bigram_counts.get(bigram) +\n",
        "                                1)/(unigram_counts.get(word1) + 10)\n",
        "    return list_of_prob\n",
        "\n",
        "# Calculating smoothed bigram probabilities\n",
        "bigram_prob = calc_smoothed_bigram_prob(bigram_frequency, dct, dct_1)\n",
        "\n",
        "# Calculating smoothed probability for the target sentence\n",
        "output_prob1 = 1\n",
        "\n",
        "for i in range(len(bigram_target)):\n",
        "    if bigram_target[i] in bigram_prob:\n",
        "        output_prob1 = output_prob1 * bigram_prob[bigram_target[i]]\n",
        "    else:\n",
        "        output_prob1 *= 0\n",
        "print('\\n' ,\n",
        "      'Smoothed probability of sentence \\\"i read a book by danielle\\\" =' ,\n",
        "      \"{:.16f}\".format(float(output_prob1)))\n"
      ]
    }
  ],
  "metadata": {
    "kernelspec": {
      "display_name": "base",
      "language": "python",
      "name": "python3"
    },
    "language_info": {
      "codemirror_mode": {
        "name": "ipython",
        "version": 3
      },
      "file_extension": ".py",
      "mimetype": "text/x-python",
      "name": "python",
      "nbconvert_exporter": "python",
      "pygments_lexer": "ipython3",
      "version": "3.11.5"
    },
    "colab": {
      "provenance": []
    }
  },
  "nbformat": 4,
  "nbformat_minor": 0
}