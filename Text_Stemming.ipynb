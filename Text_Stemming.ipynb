{
  "cells": [
    {
      "cell_type": "code",
      "execution_count": null,
      "metadata": {
        "colab": {
          "base_uri": "https://localhost:8080/"
        },
        "id": "b7EzV8_TeswF",
        "outputId": "7c6acf2f-afaf-417c-ee56-7c07bef539bd"
      },
      "outputs": [
        {
          "output_type": "stream",
          "name": "stdout",
          "text": [
            "Mounted at /content/drive\n",
            "RE Stemmer output : \n",
            "['Textual', 'information', 'in', 'the', 'world', 'can', 'be', 'broad', 'categoriz', 'into', 'two', 'main', 'typ', 'fact', 'and', 'opinion', 'Fact', 'are', 'object', 'expression', 'about', 'entit', 'event', 'and', 'their', 'propert', 'Opinion', 'are', 'usual', 'subject', 'expression', 'that', 'describe', 'people', '', 'sentiment', 'appraisal', 'or', 'feeling', 'toward', 'entit', 'event', 'and', 'their', 'propert']\n",
            "\n",
            "\n",
            "Porter Stemmer output : \n",
            "['textual', 'inform', 'in', 'the', 'world', 'can', 'be', 'broadli', 'categor', 'into', 'two', 'main', 'type', 'fact', 'and', 'opinion', 'fact', 'are', 'object', 'express', 'about', 'entiti', 'event', 'and', 'their', 'properti', 'opinion', 'are', 'usual', 'subject', 'express', 'that', 'describ', 'peopl', 's', 'sentiment', 'apprais', 'or', 'feel', 'toward', 'entiti', 'event', 'and', 'their', 'properti']\n",
            "\n",
            "\n",
            "Lancaster Stemmer output : \n",
            "['text', 'inform', 'in', 'the', 'world', 'can', 'be', 'broad', 'categ', 'into', 'two', 'main', 'typ', 'fact', 'and', 'opin', 'fact', 'ar', 'object', 'express', 'about', 'ent', 'ev', 'and', 'their', 'property', 'opin', 'ar', 'us', 'subject', 'express', 'that', 'describ', 'peopl', 's', 'senty', 'appra', 'or', 'feel', 'toward', 'ent', 'ev', 'and', 'their', 'property']\n"
          ]
        }
      ],
      "source": [
        "# 2. Demonstrate word stemming using Regular Expression, Porter Stemmer and Lancaster Stemmer and report the output. (6 marks)\n",
        "\n",
        "import re\n",
        "from nltk.stem import PorterStemmer, LancasterStemmer\n",
        "from nltk.tokenize import word_tokenize\n",
        "\n",
        "#Load the data\n",
        "from google.colab import drive\n",
        "drive.mount('/content/drive')\n",
        "with open(\"/content/drive/MyDrive/Colab Notebooks/TXSA/Assignment Data/Data_1.txt\", \"r\") as file:\n",
        "    data = file.read()\n",
        "\n",
        "tokens = re.findall(r'\\b\\w+\\b', data)\n",
        "\n",
        "def stem(word):\n",
        "    regexp = r'^(.*?)(ing|ly|ed|ious|ies|ive|es|s|ment)?$'\n",
        "    stem, suffix = re.findall(regexp, word)[0]\n",
        "    return stem\n",
        "\n",
        "porter = PorterStemmer()\n",
        "lancaster = LancasterStemmer()\n",
        "\n",
        "print (\"RE Stemmer output : \")\n",
        "print([stem(t) for t in tokens])\n",
        "print(\"\\n\")\n",
        "\n",
        "print (\"Porter Stemmer output : \")\n",
        "print([porter.stem(words) for words in tokens])\n",
        "print(\"\\n\")\n",
        "\n",
        "print (\"Lancaster Stemmer output : \")\n",
        "print([lancaster.stem(words) for words in tokens])"
      ]
    }
  ],
  "metadata": {
    "kernelspec": {
      "display_name": "JJ",
      "language": "python",
      "name": "python3"
    },
    "language_info": {
      "codemirror_mode": {
        "name": "ipython",
        "version": 3
      },
      "file_extension": ".py",
      "mimetype": "text/x-python",
      "name": "python",
      "nbconvert_exporter": "python",
      "pygments_lexer": "ipython3",
      "version": "3.12.1"
    },
    "colab": {
      "provenance": []
    }
  },
  "nbformat": 4,
  "nbformat_minor": 0
}